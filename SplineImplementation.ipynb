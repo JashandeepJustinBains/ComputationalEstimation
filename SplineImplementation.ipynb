{
 "cells": [
  {
   "attachments": {},
   "cell_type": "markdown",
   "metadata": {},
   "source": [
    "# A04-Q3: `MySpline`"
   ]
  },
  {
   "cell_type": "code",
   "execution_count": 6,
   "metadata": {},
   "outputs": [],
   "source": [
    "import numpy as np\n",
    "import matplotlib.pyplot as plt"
   ]
  },
  {
   "attachments": {},
   "cell_type": "markdown",
   "metadata": {},
   "source": [
    "## `MySpline`"
   ]
  },
  {
   "cell_type": "code",
   "execution_count": 7,
   "metadata": {},
   "outputs": [],
   "source": [
    "def MySpline(x, y):\n",
    "    '''\n",
    "     S = MySpline(x, y)\n",
    "\n",
    "     Input:\n",
    "       x and y are arrays (or lists) of corresponding x- and y-values,\n",
    "       specifying the points in the x-y plane.  The x-values\n",
    "       must be in increasing order.\n",
    "\n",
    "     Output:\n",
    "       S is a function that takes x or an array (or list) of x-values\n",
    "         It evaluates the cubic spline and returns the interpolated values.\n",
    "\n",
    "     Implementation:\n",
    "       \n",
    "       Notice that Python's indexing starts at 0, but the lectures derived\n",
    "       the equations using base-1 indexing. I suggest...\n",
    "       \n",
    "         a[0] = a_1          b[0] = b_1        c[0] = c_1\n",
    "         a[1] = a_2          b[1] = b_2        c[1] = c_2\n",
    "              :                   :                 :\n",
    "         a[n-2] = a_(n-1)    b[n-2] = b_(n-1)  c[n-2] = c_(n-1)\n",
    "         a[n-1] = a_n\n",
    "         \n",
    "       Then the i-th polynomial piece is evaluated at xx using\n",
    "       \n",
    "         p_i(xx) = a[i]*(x[i+1]-xx)**3/(6*hi) + a[i+1]*(xx-x[i])**3/(6*hi) +\n",
    "                   b[i]*(x[i+1]-xx) + c[i]*(xx-x[i])\n",
    "                   \n",
    "       where hi = x[i+1] - x[i] and i = 0, ... , n-2\n",
    "    '''\n",
    "    n = len(x)\n",
    "    h = np.zeros(n-1)\n",
    "    b = np.zeros(n-1)\n",
    "    c = np.zeros(n-1)\n",
    "    a = np.zeros(n)\n",
    "    \n",
    "    M = np.zeros((n,n))\n",
    "    r = np.zeros(n)\n",
    "    \n",
    "    # calculate h[i]'s\n",
    "    for i in range(0, n-1):\n",
    "      h[i] = x[i+1] - x[i]\n",
    "    print(f\"h = {h}\")\n",
    "    \n",
    "    # populate M array\n",
    "    for j in range(0, n-1):\n",
    "      i = j - 1\n",
    "      M[j][j-1] = h[i] / 6\n",
    "      M[j][j] = ( h[i] + h[i+1] ) / 3\n",
    "      M[j][j+1] = h[i+1] / 6\n",
    "\n",
    "      r[j] = ( y[i+2] - y[i+1] ) / h[i+1] - ( y[i+1] - y[i] ) / h[i]\n",
    "    print(f\"M={M}\")\n",
    "    #set first and last row of M\n",
    "    M[0][0] = y[0]\n",
    "    M[0][1] = h[0] / 6\n",
    "    M[-1][-1] = y[-1]\n",
    "    M[-1][-2] = h[-2] / 6\n",
    "    print(f\"M= {M}\")\n",
    "\n",
    "    # set r values to maintain natural boundary condition\n",
    "\n",
    "    r[-1] = 0\n",
    "    r[0] = 0\n",
    "\n",
    "    a = np.linalg.solve(M, r)\n",
    "    print(f\"a={a}\")\n",
    "    \n",
    "    for i in range(0, n-1):\n",
    "        b[i] = y[i] / h[i] - a[i] * h[i] / 6\n",
    "        c[i] = y[i+1] / h[i] - a[i+1] * h[i] / 6\n",
    "    print(f\"b={b} and \\nc={c}\" )\n",
    "\n",
    "    #======================================\n",
    "    #\n",
    "    # This is the function that gets returned.\n",
    "    # It evaluates the cubic spline at xvals.\n",
    "    #\n",
    "    def spline(xvals, x=x, a=a, b=b, c=c):\n",
    "        '''\n",
    "         S = spline(xvals)\n",
    "         \n",
    "         Evaluates the cubic spline at xvals.\n",
    "         \n",
    "         Inputs:\n",
    "          xvals can be a scalar, or list-like (**must be in ascending order**)\n",
    "          \n",
    "         Output:\n",
    "          S is a list of values with the same number of elements as x\n",
    "        '''\n",
    "        # Turn non-list-like input into list-like\n",
    "        if type(xvals) not in (list, np.ndarray,):\n",
    "            xvals = [xvals]\n",
    "        \n",
    "        S = []  # The return list of values\n",
    "        \n",
    "        # \n",
    "        k = 0   # this is the current polynomial piece\n",
    "        hk = x[k+1] - x[k]\n",
    "\n",
    "        for xx in xvals:\n",
    "\n",
    "            # If the next x-value is not on the current piece...\n",
    "            while xx>x[k+1]:\n",
    "                # ... Go to next piece\n",
    "                k += 1\n",
    "                hk = x[k+1] - x[k]\n",
    "\n",
    "            S_of_x = a[k]*(x[k+1]-xx)**3/(6*hk) + a[k+1]*(xx-x[k])**3/(6*hk) + b[k]*(x[k+1]-xx) + c[k]*(xx-x[k])\n",
    "\n",
    "            S.append(S_of_x)\n",
    "        \n",
    "        return S\n",
    "    #======================================\n",
    "    \n",
    "\n",
    "    return spline"
   ]
  },
  {
   "attachments": {},
   "cell_type": "markdown",
   "metadata": {},
   "source": [
    "## Test `MySpline`"
   ]
  },
  {
   "cell_type": "code",
   "execution_count": 8,
   "metadata": {},
   "outputs": [],
   "source": [
    "# Simple data points to interpolate\n",
    "y = [1, 3, 4, 2, -1, 1]\n",
    "t = [0, 1, 2, 3,  4, 5]\n"
   ]
  },
  {
   "cell_type": "code",
   "execution_count": 9,
   "metadata": {},
   "outputs": [
    {
     "name": "stdout",
     "output_type": "stream",
     "text": [
      "h = [1. 1. 1. 1. 1.]\n",
      "M=[[0.66666667 0.16666667 0.         0.         0.         0.16666667]\n",
      " [0.16666667 0.66666667 0.16666667 0.         0.         0.        ]\n",
      " [0.         0.16666667 0.66666667 0.16666667 0.         0.        ]\n",
      " [0.         0.         0.16666667 0.66666667 0.16666667 0.        ]\n",
      " [0.         0.         0.         0.16666667 0.66666667 0.16666667]\n",
      " [0.         0.         0.         0.         0.         0.        ]]\n",
      "M= [[1.         0.16666667 0.         0.         0.         0.16666667]\n",
      " [0.16666667 0.66666667 0.16666667 0.         0.         0.        ]\n",
      " [0.         0.16666667 0.66666667 0.16666667 0.         0.        ]\n",
      " [0.         0.         0.16666667 0.66666667 0.16666667 0.        ]\n",
      " [0.         0.         0.         0.16666667 0.66666667 0.16666667]\n",
      " [0.         0.         0.         0.         0.16666667 1.        ]]\n",
      "a=[ 0.3495485  -0.6746286  -3.65103408 -2.72123507  8.53597437 -1.42266239]\n",
      "b=[ 0.94174192  3.1124381   4.60850568  2.45353918 -2.42266239] and \n",
      "c=[ 3.1124381   4.60850568  2.45353918 -2.42266239  1.2371104 ]\n"
     ]
    }
   ],
   "source": [
    "# Call the function\n",
    "sp = MySpline(t,y)"
   ]
  },
  {
   "cell_type": "code",
   "execution_count": 10,
   "metadata": {},
   "outputs": [
    {
     "data": {
      "image/png": "[encoded data removed]",
      "text/plain": [
       "<Figure size 640x480 with 1 Axes>"
      ]
     },
     "metadata": {},
     "output_type": "display_data"
    }
   ],
   "source": [
    "# Plot the spline and the interpolation points\n",
    "xx = np.linspace(t[0], t[-1], 200)\n",
    "plt.plot(xx, sp(xx))\n",
    "plt.plot(t,y,'ro');"
   ]
  }
 ],
 "metadata": {
  "kernelspec": {
   "display_name": "Python 3 (ipykernel)",
   "language": "python",
   "name": "python3"
  },
  "language_info": {
   "codemirror_mode": {
    "name": "ipython",
    "version": 3
   },
   "file_extension": ".py",
   "mimetype": "text/x-python",
   "name": "python",
   "nbconvert_exporter": "python",
   "pygments_lexer": "ipython3",
   "version": "3.7.0"
  }
 },
 "nbformat": 4,
 "nbformat_minor": 2
}
